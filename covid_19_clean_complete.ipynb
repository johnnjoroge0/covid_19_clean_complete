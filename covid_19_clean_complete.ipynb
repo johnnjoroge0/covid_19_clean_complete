{
 "cells": [
  {
   "cell_type": "code",
   "execution_count": 17,
   "id": "f06d10bb",
   "metadata": {},
   "outputs": [],
   "source": [
    "#IMPORTING NECESSARY LIBRARIES\n",
    "import pandas as pd\n",
    "import numpy as np\n",
    "import seaborn as sns\n",
    "import matplotlib.pyplot as plt"
   ]
  },
  {
   "cell_type": "code",
   "execution_count": 18,
   "id": "7d01e01b",
   "metadata": {},
   "outputs": [
    {
     "name": "stdout",
     "output_type": "stream",
     "text": [
      "        id  case_in_country reporting date  Unnamed: 3  \\\n",
      "0        1              NaN      1/20/2020         NaN   \n",
      "1        2              NaN      1/20/2020         NaN   \n",
      "2        3              NaN      1/21/2020         NaN   \n",
      "3        4              NaN      1/21/2020         NaN   \n",
      "4        5              NaN      1/21/2020         NaN   \n",
      "...    ...              ...            ...         ...   \n",
      "1080  1081              2.0      2/25/2020         NaN   \n",
      "1081  1082              1.0      2/24/2020         NaN   \n",
      "1082  1083              1.0      2/26/2020         NaN   \n",
      "1083  1084              1.0      2/25/2020         NaN   \n",
      "1084  1085              1.0      2/25/2020         NaN   \n",
      "\n",
      "                                                summary             location  \\\n",
      "0     First confirmed imported COVID-19 pneumonia pa...  Shenzhen, Guangdong   \n",
      "1     First confirmed imported COVID-19 pneumonia pa...             Shanghai   \n",
      "2     First confirmed imported cases in Zhejiang: pa...             Zhejiang   \n",
      "3     new confirmed imported COVID-19 pneumonia in T...              Tianjin   \n",
      "4     new confirmed imported COVID-19 pneumonia in T...              Tianjin   \n",
      "...                                                 ...                  ...   \n",
      "1080  new COVID-19 patient confirmed in Austria: 24,...            Innsbruck   \n",
      "1081  new COVID-19 patient confirmed in Afghanistan:...          Afghanistan   \n",
      "1082  new COVID-19 patient confirmed in Algeria: mal...              Algeria   \n",
      "1083  new COVID-19 patient confirmed in Croatia: mal...              Croatia   \n",
      "1084  new COVID-19 patient confirmed in Switzerland:...                 Bern   \n",
      "\n",
      "          country  gender   age symptom_onset  ...  recovered symptom  \\\n",
      "0           China    male  66.0      01/03/20  ...          0     NaN   \n",
      "1           China  female  56.0     1/15/2020  ...          0     NaN   \n",
      "2           China    male  46.0      01/04/20  ...          0     NaN   \n",
      "3           China  female  60.0           NaN  ...          0     NaN   \n",
      "4           China    male  58.0           NaN  ...          0     NaN   \n",
      "...           ...     ...   ...           ...  ...        ...     ...   \n",
      "1080      Austria     NaN  24.0           NaN  ...          0     NaN   \n",
      "1081  Afghanistan     NaN  35.0           NaN  ...          0     NaN   \n",
      "1082      Algeria    male   NaN           NaN  ...          0     NaN   \n",
      "1083      Croatia    male   NaN           NaN  ...          0     NaN   \n",
      "1084  Switzerland    male  70.0     2/17/2020  ...          0     NaN   \n",
      "\n",
      "                                                 source  \\\n",
      "0                  Shenzhen Municipal Health Commission   \n",
      "1     Official Weibo of Shanghai Municipal Health Co...   \n",
      "2                Health Commission of Zhejiang Province   \n",
      "3                                              人民日报官方微博   \n",
      "4                                              人民日报官方微博   \n",
      "...                                                 ...   \n",
      "1080                                       Jakarta Post   \n",
      "1081                                           Fox News   \n",
      "1082                           South China Morning Post   \n",
      "1083                                            Reuters   \n",
      "1084                                            Reuters   \n",
      "\n",
      "                                                   link  Unnamed: 21  \\\n",
      "0     http://wjw.sz.gov.cn/wzx/202001/t20200120_1898...          NaN   \n",
      "1     https://www.weibo.com/2372649470/IqogQhgfa?fro...          NaN   \n",
      "2     http://www.zjwjw.gov.cn/art/2020/1/21/art_1202...          NaN   \n",
      "3           https://m.weibo.cn/status/4463235401268457?          NaN   \n",
      "4           https://m.weibo.cn/status/4463235401268457?          NaN   \n",
      "...                                                 ...          ...   \n",
      "1080  https://www.thejakartapost.com/news/2020/02/25...          NaN   \n",
      "1081  https://www.foxnews.com/health/afghanistan-fir...          NaN   \n",
      "1082  https://www.scmp.com/news/china/society/articl...          NaN   \n",
      "1083  https://www.reuters.com/article/us-croatia-cor...          NaN   \n",
      "1084  https://www.reuters.com/article/uk-switzerland...          NaN   \n",
      "\n",
      "      Unnamed: 22 Unnamed: 23 Unnamed: 24 Unnamed: 25 Unnamed: 26  \n",
      "0             NaN         NaN         NaN         NaN         NaN  \n",
      "1             NaN         NaN         NaN         NaN         NaN  \n",
      "2             NaN         NaN         NaN         NaN         NaN  \n",
      "3             NaN         NaN         NaN         NaN         NaN  \n",
      "4             NaN         NaN         NaN         NaN         NaN  \n",
      "...           ...         ...         ...         ...         ...  \n",
      "1080          NaN         NaN         NaN         NaN         NaN  \n",
      "1081          NaN         NaN         NaN         NaN         NaN  \n",
      "1082          NaN         NaN         NaN         NaN         NaN  \n",
      "1083          NaN         NaN         NaN         NaN         NaN  \n",
      "1084          NaN         NaN         NaN         NaN         NaN  \n",
      "\n",
      "[1085 rows x 27 columns]\n"
     ]
    }
   ],
   "source": [
    "#SELECT DATA SOURCE\n",
    "path='C:/Users/KARIS/COVID19/COVID19_line_list_data.csv'\n",
    "Data=pd.read_csv(path)\n",
    "print(Data)"
   ]
  },
  {
   "cell_type": "code",
   "execution_count": 20,
   "id": "172864f0",
   "metadata": {},
   "outputs": [
    {
     "name": "stdout",
     "output_type": "stream",
     "text": [
      "Empty DataFrame\n",
      "Columns: [id, case_in_country, reporting date, Unnamed: 3, summary, location, country, gender, age, symptom_onset, If_onset_approximated, hosp_visit_date, exposure_start, exposure_end, visiting Wuhan, from Wuhan, death, recovered, symptom, source, link, Unnamed: 21, Unnamed: 22, Unnamed: 23, Unnamed: 24, Unnamed: 25, Unnamed: 26]\n",
      "Index: []\n"
     ]
    }
   ],
   "source": [
    "df=pd.read_csv('C:/Users/KARIS/COVID19/COVID19_line_list_data.csv')\n",
    "df.dropna(inplace=True)\n",
    "print(df.to_string())"
   ]
  },
  {
   "cell_type": "code",
   "execution_count": null,
   "id": "6f27fc73",
   "metadata": {},
   "outputs": [],
   "source": []
  }
 ],
 "metadata": {
  "kernelspec": {
   "display_name": "Python 3 (ipykernel)",
   "language": "python",
   "name": "python3"
  },
  "language_info": {
   "codemirror_mode": {
    "name": "ipython",
    "version": 3
   },
   "file_extension": ".py",
   "mimetype": "text/x-python",
   "name": "python",
   "nbconvert_exporter": "python",
   "pygments_lexer": "ipython3",
   "version": "3.9.12"
  }
 },
 "nbformat": 4,
 "nbformat_minor": 5
}
